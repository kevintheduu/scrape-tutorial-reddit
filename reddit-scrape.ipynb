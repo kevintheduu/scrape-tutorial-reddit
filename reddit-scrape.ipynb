{
 "cells": [
  {
   "cell_type": "code",
   "execution_count": 7,
   "metadata": {},
   "outputs": [],
   "source": [
    "import pymongo\n"
   ]
  },
  {
   "cell_type": "code",
   "execution_count": 8,
   "metadata": {},
   "outputs": [
    {
     "name": "stdout",
     "output_type": "stream",
     "text": [
      "2019-10-23T18:50:34.887-0700 I CONTROL  [main] Automatically disabling TLS 1.0, to force-enable TLS 1.0 specify --sslDisabledProtocols 'none'\n",
      "2019-10-23T18:50:34.928-0700 I CONTROL  [initandlisten] MongoDB starting : pid=64292 port=27017 dbpath=/data/db 64-bit host=MacBook-Pro\n",
      "2019-10-23T18:50:34.928-0700 I CONTROL  [initandlisten] db version v4.0.3\n",
      "2019-10-23T18:50:34.928-0700 I CONTROL  [initandlisten] git version: 7ea530946fa7880364d88c8d8b6026bbc9ffa48c\n",
      "2019-10-23T18:50:34.928-0700 I CONTROL  [initandlisten] allocator: system\n",
      "2019-10-23T18:50:34.928-0700 I CONTROL  [initandlisten] modules: none\n",
      "2019-10-23T18:50:34.928-0700 I CONTROL  [initandlisten] build environment:\n",
      "2019-10-23T18:50:34.928-0700 I CONTROL  [initandlisten]     distarch: x86_64\n",
      "2019-10-23T18:50:34.928-0700 I CONTROL  [initandlisten]     target_arch: x86_64\n",
      "2019-10-23T18:50:34.928-0700 I CONTROL  [initandlisten] options: {}\n",
      "2019-10-23T18:50:34.929-0700 E STORAGE  [initandlisten] Failed to set up listener: SocketException: Address already in use\n",
      "2019-10-23T18:50:34.929-0700 I CONTROL  [initandlisten] now exiting\n",
      "2019-10-23T18:50:34.929-0700 I CONTROL  [initandlisten] shutting down with code:48\n"
     ]
    }
   ],
   "source": [
    "!mongod"
   ]
  },
  {
   "cell_type": "code",
   "execution_count": 1,
   "metadata": {},
   "outputs": [],
   "source": [
    "from pymongo import MongoClient\n",
    "mc = MongoClient()\n",
    "db = mc['reddit']\n",
    "coll = db['pages']\n"
   ]
  },
  {
   "cell_type": "code",
   "execution_count": 3,
   "metadata": {},
   "outputs": [
    {
     "name": "stdout",
     "output_type": "stream",
     "text": [
      "The autoreload extension is already loaded. To reload it, use:\n",
      "  %reload_ext autoreload\n"
     ]
    }
   ],
   "source": [
    "from selenium.webdriver import Chrome\n",
    "import pymongo\n",
    "import time\n",
    "import pandas as pd\n",
    "import json\n",
    "%load_ext autoreload\n",
    "%autoreload 2"
   ]
  },
  {
   "cell_type": "code",
   "execution_count": 4,
   "metadata": {},
   "outputs": [],
   "source": [
    "browser=Chrome()"
   ]
  },
  {
   "cell_type": "code",
   "execution_count": 6,
   "metadata": {},
   "outputs": [],
   "source": [
    "browser.get('https://www.reddit.com/r/news/')"
   ]
  },
  {
   "cell_type": "code",
   "execution_count": 14,
   "metadata": {},
   "outputs": [],
   "source": [
    "def collect_page(url, browser=browser, coll=coll, delay=3):\n",
    "    \"\"\"Scrapes and saves the source of a web page.\"\"\"\n",
    "    docs = list(coll.find({'url': url}))\n",
    "    if len(docs) == 0:\n",
    "        html = scrape_url(browser=browser,\n",
    "                          url=url,\n",
    "                          delay=delay)\n",
    "        coll.insert_one({\n",
    "            'url': url,\n",
    "            'html': html,\n",
    "        })\n",
    "    doc = coll.find_one({'url' : url})\n",
    "    return doc\n",
    "    \n",
    "    "
   ]
  },
  {
   "cell_type": "code",
   "execution_count": null,
   "metadata": {},
   "outputs": [],
   "source": []
  }
 ],
 "metadata": {
  "kernelspec": {
   "display_name": "learn-env",
   "language": "python",
   "name": "learn-env"
  },
  "language_info": {
   "codemirror_mode": {
    "name": "ipython",
    "version": 3
   },
   "file_extension": ".py",
   "mimetype": "text/x-python",
   "name": "python",
   "nbconvert_exporter": "python",
   "pygments_lexer": "ipython3",
   "version": "3.7.4"
  }
 },
 "nbformat": 4,
 "nbformat_minor": 2
}
