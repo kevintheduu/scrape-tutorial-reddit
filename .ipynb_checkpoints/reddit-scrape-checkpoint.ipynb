{
 "cells": [
  {
   "cell_type": "code",
   "execution_count": 1,
   "metadata": {},
   "outputs": [],
   "source": [
    "import pymongo\n"
   ]
  },
  {
   "cell_type": "code",
   "execution_count": 2,
   "metadata": {},
   "outputs": [
    {
     "name": "stdout",
     "output_type": "stream",
     "text": [
      "2019-10-23T15:17:30.404-0700 I CONTROL  [main] Automatically disabling TLS 1.0, to force-enable TLS 1.0 specify --sslDisabledProtocols 'none'\n",
      "2019-10-23T15:17:30.471-0700 I CONTROL  [initandlisten] MongoDB starting : pid=33368 port=27017 dbpath=/data/db 64-bit host=MacBook-Pro.local\n",
      "2019-10-23T15:17:30.471-0700 I CONTROL  [initandlisten] db version v4.0.3\n",
      "2019-10-23T15:17:30.471-0700 I CONTROL  [initandlisten] git version: 7ea530946fa7880364d88c8d8b6026bbc9ffa48c\n",
      "2019-10-23T15:17:30.471-0700 I CONTROL  [initandlisten] allocator: system\n",
      "2019-10-23T15:17:30.471-0700 I CONTROL  [initandlisten] modules: none\n",
      "2019-10-23T15:17:30.471-0700 I CONTROL  [initandlisten] build environment:\n",
      "2019-10-23T15:17:30.471-0700 I CONTROL  [initandlisten]     distarch: x86_64\n",
      "2019-10-23T15:17:30.471-0700 I CONTROL  [initandlisten]     target_arch: x86_64\n",
      "2019-10-23T15:17:30.472-0700 I CONTROL  [initandlisten] options: {}\n",
      "2019-10-23T15:17:30.473-0700 E STORAGE  [initandlisten] Failed to set up listener: SocketException: Address already in use\n",
      "2019-10-23T15:17:30.473-0700 I CONTROL  [initandlisten] now exiting\n",
      "2019-10-23T15:17:30.473-0700 I CONTROL  [initandlisten] shutting down with code:48\n"
     ]
    }
   ],
   "source": [
    "!mongod"
   ]
  },
  {
   "cell_type": "code",
   "execution_count": 4,
   "metadata": {},
   "outputs": [],
   "source": [
    "from pymongo import MongoClient\n",
    "mc = MongoClient()\n",
    "db = mc['reddit']\n",
    "reddit_coll = db['pages']\n"
   ]
  },
  {
   "cell_type": "code",
   "execution_count": null,
   "metadata": {},
   "outputs": [],
   "source": []
  }
 ],
 "metadata": {
  "kernelspec": {
   "display_name": "learn-env",
   "language": "python",
   "name": "learn-env"
  },
  "language_info": {
   "codemirror_mode": {
    "name": "ipython",
    "version": 3
   },
   "file_extension": ".py",
   "mimetype": "text/x-python",
   "name": "python",
   "nbconvert_exporter": "python",
   "pygments_lexer": "ipython3",
   "version": "3.7.4"
  }
 },
 "nbformat": 4,
 "nbformat_minor": 2
}
